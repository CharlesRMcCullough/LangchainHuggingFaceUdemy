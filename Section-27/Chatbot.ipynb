{
 "cells": [
  {
   "cell_type": "code",
   "id": "b851cbdc",
   "metadata": {
    "ExecuteTime": {
     "end_time": "2024-11-30T18:14:02.156355Z",
     "start_time": "2024-11-30T18:14:02.154325Z"
    }
   },
   "source": [
    "import os\n",
    "from dotenv import load_dotenv\n",
    "from langchain_groq import ChatGroq\n",
    "from langchain_core.messages import HumanMessage\n",
    "from langchain_core.messages import AIMessage\n",
    "from langchain_core.messages import SystemMessage, trim_messages\n",
    "from langchain_community.chat_message_histories import ChatMessageHistory\n",
    "from langchain_core.chat_history import BaseChatMessageHistory\n",
    "from langchain_core.runnables.history import RunnableWithMessageHistory\n",
    "from langchain_core.prompts import ChatPromptTemplate, MessagesPlaceholder\n",
    "from langchain.llms import Ollama\n",
    "from langchain_ollama import ChatOllama\n",
    "from operator import itemgetter\n",
    "from langchain_core.runnables import RunnablePassthrough"
   ],
   "outputs": [],
   "execution_count": 42
  },
  {
   "cell_type": "code",
   "id": "88d8505e",
   "metadata": {
    "ExecuteTime": {
     "end_time": "2024-11-30T17:27:04.052112Z",
     "start_time": "2024-11-30T17:27:04.049976Z"
    }
   },
   "source": [
    "# load_dotenv()\n",
    "# \n",
    "# groq_api_key= os.getenv(\"GROQ_API_KEY\")"
   ],
   "outputs": [],
   "execution_count": 2
  },
  {
   "cell_type": "markdown",
   "id": "ead4b06637b7690a",
   "metadata": {},
   "source": [
    "## Building A Chatbot"
   ]
  },
  {
   "cell_type": "code",
   "id": "e31db25d",
   "metadata": {
    "ExecuteTime": {
     "end_time": "2024-11-30T17:37:49.646701Z",
     "start_time": "2024-11-30T17:37:49.621273Z"
    }
   },
   "source": [
    "#llm=ChatGroq(model=\"gemma2-9b-it\", groq_api_key=groq_api_key)\n",
    "llm = ChatOllama(model=\"llama3.2:latest\")"
   ],
   "outputs": [],
   "execution_count": 23
  },
  {
   "cell_type": "code",
   "id": "99c819ee",
   "metadata": {
    "ExecuteTime": {
     "end_time": "2024-11-30T17:37:55.083174Z",
     "start_time": "2024-11-30T17:37:54.022087Z"
    }
   },
   "source": [
    "llm.invoke([HumanMessage(content=\"Hi! My name is Charles\")])"
   ],
   "outputs": [
    {
     "data": {
      "text/plain": [
       "AIMessage(content=\"Hello Charles! It's nice to meet you. Is there something I can help you with or would you like to chat?\", additional_kwargs={}, response_metadata={'model': 'llama3.2:latest', 'created_at': '2024-11-30T17:37:55.080509266Z', 'done': True, 'done_reason': 'stop', 'total_duration': 1056736431, 'load_duration': 872440193, 'prompt_eval_count': 31, 'prompt_eval_duration': 48000000, 'eval_count': 26, 'eval_duration': 134000000, 'message': Message(role='assistant', content='', images=None, tool_calls=None)}, id='run-9bf34d16-b858-4068-b13d-082393dc74b0-0', usage_metadata={'input_tokens': 31, 'output_tokens': 26, 'total_tokens': 57})"
      ]
     },
     "execution_count": 24,
     "metadata": {},
     "output_type": "execute_result"
    }
   ],
   "execution_count": 24
  },
  {
   "cell_type": "code",
   "id": "241c1555",
   "metadata": {
    "ExecuteTime": {
     "end_time": "2024-11-30T17:27:53.016954Z",
     "start_time": "2024-11-30T17:27:53.015441Z"
    }
   },
   "source": [
    "messages=[\n",
    "    HumanMessage(content=\"Hi! My name is Charles\"),\n",
    "    AIMessage(content=\"Hi Charles, it's nice to meet you! What can I do for you today?\"),\n",
    "    HumanMessage(content=\"What's my name\")\n",
    "]"
   ],
   "outputs": [],
   "execution_count": 5
  },
  {
   "cell_type": "code",
   "id": "67b40ae0",
   "metadata": {
    "ExecuteTime": {
     "end_time": "2024-11-30T17:28:11.189712Z",
     "start_time": "2024-11-30T17:28:10.925869Z"
    }
   },
   "source": [
    "llm.invoke(messages)"
   ],
   "outputs": [
    {
     "data": {
      "text/plain": [
       "AIMessage(content='Your name is Charles. 😊  \\n\\nI remember that you told me!  Is there anything else I can help you with?\\n', additional_kwargs={}, response_metadata={'token_usage': {'completion_tokens': 29, 'prompt_tokens': 49, 'total_tokens': 78, 'completion_time': 0.052727273, 'prompt_time': 0.000537448, 'queue_time': 0.014050682, 'total_time': 0.053264721}, 'model_name': 'gemma2-9b-it', 'system_fingerprint': 'fp_10c08bf97d', 'finish_reason': 'stop', 'logprobs': None}, id='run-03a6ad65-53c4-43cb-a60e-5317e93c08c2-0', usage_metadata={'input_tokens': 49, 'output_tokens': 29, 'total_tokens': 78})"
      ]
     },
     "execution_count": 6,
     "metadata": {},
     "output_type": "execute_result"
    }
   ],
   "execution_count": 6
  },
  {
   "cell_type": "markdown",
   "id": "5d6b7a92",
   "metadata": {},
   "source": [
    "#### Message history"
   ]
  },
  {
   "cell_type": "code",
   "id": "1ee96b70",
   "metadata": {
    "ExecuteTime": {
     "end_time": "2024-11-30T17:28:56.292336Z",
     "start_time": "2024-11-30T17:28:56.289119Z"
    }
   },
   "source": [
    "store={}\n",
    "\n",
    "def get_session_history(session_id:str)->BaseChatMessageHistory:\n",
    "    if session_id not in store:\n",
    "        store[session_id]=ChatMessageHistory()\n",
    "    return store[session_id]\n",
    "\n",
    "with_message_history=RunnableWithMessageHistory(llm, get_session_history)"
   ],
   "outputs": [],
   "execution_count": 7
  },
  {
   "cell_type": "code",
   "id": "359c2f9a",
   "metadata": {
    "ExecuteTime": {
     "end_time": "2024-11-30T17:29:13.659891Z",
     "start_time": "2024-11-30T17:29:13.658578Z"
    }
   },
   "source": [
    "config={\"configurable\":{\"session_id\":\"chat2\"}}"
   ],
   "outputs": [],
   "execution_count": 8
  },
  {
   "cell_type": "code",
   "id": "3486759f",
   "metadata": {
    "ExecuteTime": {
     "end_time": "2024-11-30T17:29:20.947805Z",
     "start_time": "2024-11-30T17:29:20.582077Z"
    }
   },
   "source": [
    "response=with_message_history.invoke(\n",
    "    [HumanMessage(content=\"Hi! My name is Charles\")],\n",
    "    config=config\n",
    ")"
   ],
   "outputs": [],
   "execution_count": 9
  },
  {
   "cell_type": "code",
   "id": "38d1b9e9",
   "metadata": {
    "ExecuteTime": {
     "end_time": "2024-11-30T17:29:33.962796Z",
     "start_time": "2024-11-30T17:29:33.958177Z"
    }
   },
   "source": [
    "print(response.content)"
   ],
   "outputs": [
    {
     "name": "stdout",
     "output_type": "stream",
     "text": [
      "Hi Charles, it's nice to meet you! What can I do for you today? 😄  \n",
      "\n",
      "\n"
     ]
    }
   ],
   "execution_count": 10
  },
  {
   "cell_type": "code",
   "id": "801f6d91",
   "metadata": {
    "ExecuteTime": {
     "end_time": "2024-11-30T17:29:40.855002Z",
     "start_time": "2024-11-30T17:29:40.588931Z"
    }
   },
   "source": [
    "with_message_history.invoke(\n",
    "    [HumanMessage(content=\"What's my name?\")],\n",
    "    config=config\n",
    ")"
   ],
   "outputs": [
    {
     "data": {
      "text/plain": [
       "AIMessage(content='Your name is Charles.  \\n\\nI remember that you told me! 😊  Is there anything else I can help you with? \\n', additional_kwargs={}, response_metadata={'token_usage': {'completion_tokens': 30, 'prompt_tokens': 53, 'total_tokens': 83, 'completion_time': 0.054545455, 'prompt_time': 0.001818043, 'queue_time': 0.012813837, 'total_time': 0.056363498}, 'model_name': 'gemma2-9b-it', 'system_fingerprint': 'fp_10c08bf97d', 'finish_reason': 'stop', 'logprobs': None}, id='run-334d616e-1194-4692-8944-b94843bd6f98-0', usage_metadata={'input_tokens': 53, 'output_tokens': 30, 'total_tokens': 83})"
      ]
     },
     "execution_count": 11,
     "metadata": {},
     "output_type": "execute_result"
    }
   ],
   "execution_count": 11
  },
  {
   "cell_type": "markdown",
   "id": "ce4cbfb7",
   "metadata": {},
   "source": [
    "#### change the config --> session id"
   ]
  },
  {
   "cell_type": "code",
   "id": "72b5f662",
   "metadata": {
    "ExecuteTime": {
     "end_time": "2024-11-30T17:29:51.750102Z",
     "start_time": "2024-11-30T17:29:51.748555Z"
    }
   },
   "source": [
    "config1={\"configurable\":{\"session_id\":\"chat2\"}}"
   ],
   "outputs": [],
   "execution_count": 12
  },
  {
   "cell_type": "code",
   "id": "6ff558ef",
   "metadata": {
    "ExecuteTime": {
     "end_time": "2024-11-30T17:29:59.963997Z",
     "start_time": "2024-11-30T17:29:59.717583Z"
    }
   },
   "source": [
    "response=with_message_history.invoke(\n",
    "    [HumanMessage(content=\"What's my name?\")],\n",
    "    config=config1\n",
    ")\n",
    "response.content"
   ],
   "outputs": [
    {
     "data": {
      "text/plain": [
       "\"You said your name is Charles!  \\n\\nI'm ready for another question if you have one.  😊 \\n\""
      ]
     },
     "execution_count": 13,
     "metadata": {},
     "output_type": "execute_result"
    }
   ],
   "execution_count": 13
  },
  {
   "cell_type": "code",
   "id": "4131b7d9",
   "metadata": {
    "ExecuteTime": {
     "end_time": "2024-11-30T17:30:09.835994Z",
     "start_time": "2024-11-30T17:30:09.327596Z"
    }
   },
   "source": [
    "response=with_message_history.invoke(\n",
    "    [HumanMessage(content=\"Hello, my name is John.\")],\n",
    "    config=config1\n",
    ")\n",
    "response.content"
   ],
   "outputs": [
    {
     "data": {
      "text/plain": [
       "'Hello John! Nice to meet you.  😊\\n\\nIs there anything I can help you with today?  \\n'"
      ]
     },
     "execution_count": 14,
     "metadata": {},
     "output_type": "execute_result"
    }
   ],
   "execution_count": 14
  },
  {
   "cell_type": "markdown",
   "id": "464a1379",
   "metadata": {},
   "source": [
    "#### Prompt Templates"
   ]
  },
  {
   "cell_type": "code",
   "id": "ea2b6b5d",
   "metadata": {
    "ExecuteTime": {
     "end_time": "2024-11-30T17:30:21.046677Z",
     "start_time": "2024-11-30T17:30:21.044919Z"
    }
   },
   "source": [
    "prompt=ChatPromptTemplate.from_messages(\n",
    "    [\n",
    "        (\"system\",\"You are a helpful AI assistant. Answer all the questions to the best of your ability. If you don't an answer then say you don't know.\"),\n",
    "        MessagesPlaceholder(variable_name=\"messages\")\n",
    "    ]\n",
    ")\n",
    "\n",
    "chain=prompt|llm"
   ],
   "outputs": [],
   "execution_count": 15
  },
  {
   "cell_type": "code",
   "id": "26a765c6",
   "metadata": {
    "ExecuteTime": {
     "end_time": "2024-11-30T17:30:25.999708Z",
     "start_time": "2024-11-30T17:30:25.698106Z"
    }
   },
   "source": [
    "chain.invoke({\"messages\":[HumanMessage(content=\"Hi, my name is Charles\")]})"
   ],
   "outputs": [
    {
     "data": {
      "text/plain": [
       "AIMessage(content=\"Hello Charles, it's nice to meet you! \\n\\nI'm ready to answer your questions. What can I do for you? 😊  \\n\\n\", additional_kwargs={}, response_metadata={'token_usage': {'completion_tokens': 35, 'prompt_tokens': 48, 'total_tokens': 83, 'completion_time': 0.063636364, 'prompt_time': 0.000535868, 'queue_time': 0.014006722, 'total_time': 0.064172232}, 'model_name': 'gemma2-9b-it', 'system_fingerprint': 'fp_10c08bf97d', 'finish_reason': 'stop', 'logprobs': None}, id='run-53cafb7c-a190-4b46-8c9c-5791f6fbf140-0', usage_metadata={'input_tokens': 48, 'output_tokens': 35, 'total_tokens': 83})"
      ]
     },
     "execution_count": 16,
     "metadata": {},
     "output_type": "execute_result"
    }
   ],
   "execution_count": 16
  },
  {
   "cell_type": "code",
   "id": "07dc8302",
   "metadata": {
    "ExecuteTime": {
     "end_time": "2024-11-30T17:30:31.334036Z",
     "start_time": "2024-11-30T17:30:31.332187Z"
    }
   },
   "source": [
    "with_message_history=RunnableWithMessageHistory(chain, get_session_history)"
   ],
   "outputs": [],
   "execution_count": 17
  },
  {
   "cell_type": "code",
   "id": "0795a24f",
   "metadata": {
    "ExecuteTime": {
     "end_time": "2024-11-30T17:30:34.090430Z",
     "start_time": "2024-11-30T17:30:34.088340Z"
    }
   },
   "source": [
    "config1={\"configurable\":{\"session_id\":\"chat3\"}}"
   ],
   "outputs": [],
   "execution_count": 18
  },
  {
   "cell_type": "code",
   "id": "3af8d1f7",
   "metadata": {
    "ExecuteTime": {
     "end_time": "2024-11-30T17:30:45.478877Z",
     "start_time": "2024-11-30T17:30:45.246953Z"
    }
   },
   "source": [
    "response=with_message_history.invoke(\n",
    "        [HumanMessage(content=\"Hello, my name is Charles.\")],\n",
    "    config=config\n",
    ")\n",
    "response"
   ],
   "outputs": [
    {
     "data": {
      "text/plain": [
       "AIMessage(content=\"Hello Charles! It's nice to hear from you again.  \\n\\nWhat can I do for you today?  \\n\", additional_kwargs={}, response_metadata={'token_usage': {'completion_tokens': 27, 'prompt_tokens': 212, 'total_tokens': 239, 'completion_time': 0.049090909, 'prompt_time': 0.006716045, 'queue_time': 0.006927265, 'total_time': 0.055806954}, 'model_name': 'gemma2-9b-it', 'system_fingerprint': 'fp_10c08bf97d', 'finish_reason': 'stop', 'logprobs': None}, id='run-00656814-75a5-4836-b666-c73cdc2e0b2d-0', usage_metadata={'input_tokens': 212, 'output_tokens': 27, 'total_tokens': 239})"
      ]
     },
     "execution_count": 19,
     "metadata": {},
     "output_type": "execute_result"
    }
   ],
   "execution_count": 19
  },
  {
   "cell_type": "code",
   "id": "84fe66f5",
   "metadata": {},
   "source": [],
   "outputs": [],
   "execution_count": null
  },
  {
   "cell_type": "code",
   "id": "111316a8",
   "metadata": {
    "ExecuteTime": {
     "end_time": "2024-11-30T17:30:54.378692Z",
     "start_time": "2024-11-30T17:30:54.119964Z"
    }
   },
   "source": [
    "response= chain.invoke({\n",
    "        \"messages\":[HumanMessage(content=\"Hello, my name is Charles.\")],\"language\":\"French\"})\n",
    "response.content\n"
   ],
   "outputs": [
    {
     "data": {
      "text/plain": [
       "\"Hello Charles, it's nice to meet you! \\n\\nI'm ready for your questions. Ask away! 😊  \\n\""
      ]
     },
     "execution_count": 20,
     "metadata": {},
     "output_type": "execute_result"
    }
   ],
   "execution_count": 20
  },
  {
   "cell_type": "code",
   "id": "c3d9d49f",
   "metadata": {},
   "source": [
    "with_message_history=RunnableWithMessageHistory(\n",
    "    chain,\n",
    "    get_session_history,\n",
    "    input_messages_key=\"messages\"\n",
    ")"
   ],
   "outputs": [],
   "execution_count": null
  },
  {
   "cell_type": "code",
   "id": "c8fcfa8b",
   "metadata": {},
   "source": [
    "config={\"configurable\":{\"session_id\":\"chat4\"}}"
   ],
   "outputs": [],
   "execution_count": null
  },
  {
   "cell_type": "code",
   "id": "3f470dd9",
   "metadata": {},
   "source": [
    "response=with_message_history.invoke(\n",
    "   {\"messages\":[HumanMessage(content=\"Hello, my name is Charles.\")],\"language\":\"French\"},\n",
    "   config=config\n",
    ")\n",
    "response.content"
   ],
   "outputs": [],
   "execution_count": null
  },
  {
   "cell_type": "code",
   "id": "112589a2",
   "metadata": {},
   "source": [
    "response=with_message_history.invoke(\n",
    "   {\"messages\":[HumanMessage(content=\"What's my name?.\")],\"language\":\"English\"},\n",
    "   config=config\n",
    ")\n",
    "response.content"
   ],
   "outputs": [],
   "execution_count": null
  },
  {
   "metadata": {},
   "cell_type": "markdown",
   "source": "## Managing the Conversation History",
   "id": "65903622541518a6"
  },
  {
   "metadata": {
    "ExecuteTime": {
     "end_time": "2024-11-30T18:03:20.628451Z",
     "start_time": "2024-11-30T18:03:20.626614Z"
    }
   },
   "cell_type": "code",
   "source": [
    "trimmer=trim_messages(\n",
    "    max_tokens=45,\n",
    "    strategy=\"last\",\n",
    "    token_counter=llm,\n",
    "    include_system=True,\n",
    "    allow_partial=False,\n",
    "    start_on=\"human\"\n",
    ")"
   ],
   "id": "6e89c8e35fd63925",
   "outputs": [],
   "execution_count": 39
  },
  {
   "metadata": {
    "ExecuteTime": {
     "end_time": "2024-11-30T18:03:22.962989Z",
     "start_time": "2024-11-30T18:03:22.959952Z"
    }
   },
   "cell_type": "code",
   "source": [
    "messages = [\n",
    "    SystemMessage(content=\"You're a good assistant\"),\n",
    "    HumanMessage(content=\"hi!, I'm Bob\"),\n",
    "    AIMessage(content=\"Hi!\"),\n",
    "    HumanMessage(content=\"I like vanilla ice create\"),\n",
    "    AIMessage(content=\"Nice!\"),\n",
    "    HumanMessage(content=\"What's 2 + 2\"),\n",
    "    AIMessage(content=\"4\"),\n",
    "    HumanMessage(content=\"Thanks\"),\n",
    "    AIMessage(content=\"No problem\"),\n",
    "    HumanMessage(content=\"having fun?\"),\n",
    "    AIMessage(content=\"Yes!\"),\n",
    "]"
   ],
   "id": "51ac3e58a7a27738",
   "outputs": [],
   "execution_count": 40
  },
  {
   "metadata": {
    "ExecuteTime": {
     "end_time": "2024-11-30T18:03:25.658217Z",
     "start_time": "2024-11-30T18:03:25.652511Z"
    }
   },
   "cell_type": "code",
   "source": "trimmer.invoke(messages)",
   "id": "f2a1ef8f4b544473",
   "outputs": [
    {
     "data": {
      "text/plain": [
       "[SystemMessage(content=\"You're a good assistant\", additional_kwargs={}, response_metadata={}),\n",
       " HumanMessage(content='I like vanilla ice create', additional_kwargs={}, response_metadata={}),\n",
       " AIMessage(content='Nice!', additional_kwargs={}, response_metadata={}),\n",
       " HumanMessage(content=\"What's 2 + 2\", additional_kwargs={}, response_metadata={}),\n",
       " AIMessage(content='4', additional_kwargs={}, response_metadata={}),\n",
       " HumanMessage(content='Thanks', additional_kwargs={}, response_metadata={}),\n",
       " AIMessage(content='No problem', additional_kwargs={}, response_metadata={}),\n",
       " HumanMessage(content='having fun?', additional_kwargs={}, response_metadata={}),\n",
       " AIMessage(content='Yes!', additional_kwargs={}, response_metadata={})]"
      ]
     },
     "execution_count": 41,
     "metadata": {},
     "output_type": "execute_result"
    }
   ],
   "execution_count": 41
  },
  {
   "metadata": {
    "ExecuteTime": {
     "end_time": "2024-11-30T18:17:41.212605Z",
     "start_time": "2024-11-30T18:17:41.208846Z"
    }
   },
   "cell_type": "code",
   "source": [
    "chain=(\n",
    "    RunnablePassthrough.assign(messages=itemgetter(\"messages\") | trimmer)\n",
    "    | prompt\n",
    "    | llm\n",
    ")"
   ],
   "id": "ad5b8ac83ca1e08a",
   "outputs": [],
   "execution_count": 43
  },
  {
   "metadata": {
    "ExecuteTime": {
     "end_time": "2024-11-30T18:25:02.213325Z",
     "start_time": "2024-11-30T18:25:02.112505Z"
    }
   },
   "cell_type": "code",
   "source": [
    "response = chain.invoke(\n",
    "    {\n",
    "    \"messages\":messages + [HumanMessage(content=\"What math problem did i ask?\")],\n",
    "    \"language\": \"English\"\n",
    "}\n",
    ")"
   ],
   "id": "62422d7a9565ad32",
   "outputs": [],
   "execution_count": 47
  },
  {
   "metadata": {
    "ExecuteTime": {
     "end_time": "2024-11-30T18:25:05.103700Z",
     "start_time": "2024-11-30T18:25:05.101647Z"
    }
   },
   "cell_type": "code",
   "source": "response.content",
   "id": "ef1fdcb9d821debd",
   "outputs": [
    {
     "data": {
      "text/plain": [
       "'You asked me \"2 + 2\" earlier.'"
      ]
     },
     "execution_count": 48,
     "metadata": {},
     "output_type": "execute_result"
    }
   ],
   "execution_count": 48
  },
  {
   "metadata": {
    "ExecuteTime": {
     "end_time": "2024-11-30T18:27:22.180754Z",
     "start_time": "2024-11-30T18:27:22.178698Z"
    }
   },
   "cell_type": "code",
   "source": "with_message_history = RunnableWithMessageHistory(chain, get_session_history, input_messages_key=\"messages\")",
   "id": "b912c8ecedced2b0",
   "outputs": [],
   "execution_count": 49
  },
  {
   "metadata": {
    "ExecuteTime": {
     "end_time": "2024-11-30T18:27:35.821433Z",
     "start_time": "2024-11-30T18:27:35.817335Z"
    }
   },
   "cell_type": "code",
   "source": "with_message_history",
   "id": "9bf3c911481151d0",
   "outputs": [
    {
     "data": {
      "text/plain": [
       "RunnableWithMessageHistory(bound=RunnableBinding(bound=RunnableBinding(bound=RunnableAssign(mapper={\n",
       "  messages: RunnableBinding(bound=RunnableLambda(_enter_history), kwargs={}, config={'run_name': 'load_history'}, config_factories=[])\n",
       "}), kwargs={}, config={'run_name': 'insert_history'}, config_factories=[])\n",
       "| RunnableBinding(bound=RunnableLambda(_call_runnable_sync), kwargs={}, config={'run_name': 'check_sync_or_async'}, config_factories=[]), kwargs={}, config={'run_name': 'RunnableWithMessageHistory'}, config_factories=[]), kwargs={}, config={}, config_factories=[], get_session_history=<function get_session_history at 0x77be0f41f240>, input_messages_key='messages', history_factory_config=[ConfigurableFieldSpec(id='session_id', annotation=<class 'str'>, name='Session ID', description='Unique identifier for a session.', default='', is_shared=True, dependencies=None)])"
      ]
     },
     "execution_count": 50,
     "metadata": {},
     "output_type": "execute_result"
    }
   ],
   "execution_count": 50
  }
 ],
 "metadata": {
  "kernelspec": {
   "display_name": "LangchainEnv",
   "language": "python",
   "name": "python3"
  },
  "language_info": {
   "codemirror_mode": {
    "name": "ipython",
    "version": 3
   },
   "file_extension": ".py",
   "mimetype": "text/x-python",
   "name": "python",
   "nbconvert_exporter": "python",
   "pygments_lexer": "ipython3",
   "version": "3.12.7"
  }
 },
 "nbformat": 4,
 "nbformat_minor": 5
}
