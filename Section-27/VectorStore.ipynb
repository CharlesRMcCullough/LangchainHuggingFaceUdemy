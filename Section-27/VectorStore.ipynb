{
 "cells": [
  {
   "cell_type": "code",
   "id": "initial_id",
   "metadata": {
    "collapsed": true,
    "ExecuteTime": {
     "end_time": "2024-12-01T16:34:53.612972Z",
     "start_time": "2024-12-01T16:34:53.608889Z"
    }
   },
   "source": [
    "from langchain_core.documents import Document\n",
    "from langchain_community.embeddings import OllamaEmbeddings\n",
    "from langchain_chroma import Chroma\n",
    "from langchain.llms import Ollama\n",
    "from langchain_ollama import ChatOllama\n",
    "from langchain_ollama import OllamaEmbeddings\n",
    "from typing import List\n",
    "from langchain_core.runnables import RunnableLambda \n",
    "from langchain_core.prompts import ChatPromptTemplate\n",
    "from langchain_core.runnables import RunnablePassthrough"
   ],
   "outputs": [],
   "execution_count": 18
  },
  {
   "metadata": {},
   "cell_type": "markdown",
   "source": "## Vector stores and retrievers\n",
   "id": "7a5b51abab3d1fea"
  },
  {
   "metadata": {
    "ExecuteTime": {
     "end_time": "2024-12-01T16:14:35.757315Z",
     "start_time": "2024-12-01T16:14:35.754079Z"
    }
   },
   "cell_type": "code",
   "source": [
    "documents = [\n",
    "    Document(\n",
    "        page_content=\"Dogs are great companions, known for their loyalty and friendliness.\",\n",
    "        metadata={\"source\": \"mammal-pets-doc\"},\n",
    "    ),\n",
    "    Document(\n",
    "        page_content=\"Cats are independent pets that often enjoy their own space.\",\n",
    "        metadata={\"source\": \"mammal-pets-doc\"},\n",
    "    ),\n",
    "    Document(\n",
    "        page_content=\"Goldfish are popular pets for beginners, requiring relatively simple care.\",\n",
    "        metadata={\"source\": \"fish-pets-doc\"},\n",
    "    ),\n",
    "    Document(\n",
    "        page_content=\"Parrots are intelligent birds capable of mimicking human speech.\",\n",
    "        metadata={\"source\": \"bird-pets-doc\"},\n",
    "    ),\n",
    "    Document(\n",
    "        page_content=\"Rabbits are social animals that need plenty of space to hop around.\",\n",
    "        metadata={\"source\": \"mammal-pets-doc\"},\n",
    "    ),\n",
    "]"
   ],
   "id": "f801842ffd8f825a",
   "outputs": [],
   "execution_count": 2
  },
  {
   "metadata": {
    "ExecuteTime": {
     "end_time": "2024-12-01T16:14:38.822613Z",
     "start_time": "2024-12-01T16:14:38.794845Z"
    }
   },
   "cell_type": "code",
   "source": "llm = ChatOllama(model=\"llama3.2:latest\")",
   "id": "a286fd24ccad89b6",
   "outputs": [],
   "execution_count": 3
  },
  {
   "metadata": {
    "ExecuteTime": {
     "end_time": "2024-12-01T16:14:42.936521Z",
     "start_time": "2024-12-01T16:14:42.913005Z"
    }
   },
   "cell_type": "code",
   "source": [
    "#embeddings = (OllamaEmbeddings(model=\"nomic-embed-text:latest\")\n",
    "#)\n",
    "embeddings = (OllamaEmbeddings(model=\"llama3.2:latest\")\n",
    ")"
   ],
   "id": "bfed64399728c4f9",
   "outputs": [],
   "execution_count": 4
  },
  {
   "metadata": {
    "ExecuteTime": {
     "end_time": "2024-12-01T16:14:46.381893Z",
     "start_time": "2024-12-01T16:14:46.253750Z"
    }
   },
   "cell_type": "code",
   "source": "vectorstore = Chroma.from_documents(documents, embeddings)",
   "id": "16252b39b8a14575",
   "outputs": [],
   "execution_count": 5
  },
  {
   "metadata": {
    "ExecuteTime": {
     "end_time": "2024-12-01T16:14:50.534115Z",
     "start_time": "2024-12-01T16:14:50.513198Z"
    }
   },
   "cell_type": "code",
   "source": "vectorstore.similarity_search_with_score(\"cat\")",
   "id": "691a9c3750336023",
   "outputs": [
    {
     "data": {
      "text/plain": [
       "[(Document(metadata={'source': 'bird-pets-doc'}, page_content='Parrots are intelligent birds capable of mimicking human speech.'),\n",
       "  0.9999994039535522),\n",
       " (Document(metadata={'source': 'fish-pets-doc'}, page_content='Goldfish are popular pets for beginners, requiring relatively simple care.'),\n",
       "  0.9999994039535522),\n",
       " (Document(metadata={'source': 'mammal-pets-doc'}, page_content='Cats are independent pets that often enjoy their own space.'),\n",
       "  1.5967835187911987),\n",
       " (Document(metadata={'source': 'mammal-pets-doc'}, page_content='Dogs are great companions, known for their loyalty and friendliness.'),\n",
       "  1.604480266571045)]"
      ]
     },
     "execution_count": 6,
     "metadata": {},
     "output_type": "execute_result"
    }
   ],
   "execution_count": 6
  },
  {
   "metadata": {
    "ExecuteTime": {
     "end_time": "2024-12-01T16:32:02.597481Z",
     "start_time": "2024-12-01T16:32:02.575702Z"
    }
   },
   "cell_type": "code",
   "source": "await vectorstore.asimilarity_search_with_score(\"cat\")",
   "id": "eea77bfedff239c1",
   "outputs": [
    {
     "data": {
      "text/plain": [
       "[(Document(metadata={'source': 'bird-pets-doc'}, page_content='Parrots are intelligent birds capable of mimicking human speech.'),\n",
       "  0.9999994039535522),\n",
       " (Document(metadata={'source': 'fish-pets-doc'}, page_content='Goldfish are popular pets for beginners, requiring relatively simple care.'),\n",
       "  0.9999994039535522),\n",
       " (Document(metadata={'source': 'mammal-pets-doc'}, page_content='Cats are independent pets that often enjoy their own space.'),\n",
       "  1.5967835187911987),\n",
       " (Document(metadata={'source': 'mammal-pets-doc'}, page_content='Dogs are great companions, known for their loyalty and friendliness.'),\n",
       "  1.604480266571045)]"
      ]
     },
     "execution_count": 13,
     "metadata": {},
     "output_type": "execute_result"
    }
   ],
   "execution_count": 13
  },
  {
   "metadata": {
    "ExecuteTime": {
     "end_time": "2024-12-01T16:32:25.154219Z",
     "start_time": "2024-12-01T16:32:25.150981Z"
    }
   },
   "cell_type": "code",
   "source": [
    "ret = vectorstore.as_retriever(\n",
    "    search_type=\"similarity\",\n",
    "    search_kwargs={\"k\":1}\n",
    ")"
   ],
   "id": "5df9dc8518e71a4d",
   "outputs": [],
   "execution_count": 16
  },
  {
   "metadata": {
    "ExecuteTime": {
     "end_time": "2024-12-01T16:32:27.125328Z",
     "start_time": "2024-12-01T16:32:27.085619Z"
    }
   },
   "cell_type": "code",
   "source": "ret.batch([\"cat\", \"dog\"])",
   "id": "ba1fd1568889cfb9",
   "outputs": [
    {
     "data": {
      "text/plain": [
       "[[Document(metadata={'source': 'fish-pets-doc'}, page_content='Goldfish are popular pets for beginners, requiring relatively simple care.')],\n",
       " [Document(metadata={'source': 'fish-pets-doc'}, page_content='Goldfish are popular pets for beginners, requiring relatively simple care.')]]"
      ]
     },
     "execution_count": 17,
     "metadata": {},
     "output_type": "execute_result"
    }
   ],
   "execution_count": 17
  },
  {
   "metadata": {
    "ExecuteTime": {
     "end_time": "2024-12-01T16:41:33.406279Z",
     "start_time": "2024-12-01T16:41:33.370149Z"
    }
   },
   "cell_type": "code",
   "source": [
    "message = \"\"\"\n",
    "Answer this question using the provided context only.\n",
    "{question}\n",
    "\n",
    "Context:\n",
    "{context}\n",
    "\"\"\"\n",
    "\n",
    "prompt = ChatPromptTemplate.from_messages(\"human\", message)\n",
    "\n",
    "rag_chain={\"context\":ret, \"question\":RunnablePassthrough()}|prompt|llm\n",
    "\n",
    "response = rag_chain.invoke(\"Tell me about dogs.\")\n",
    "print(response)"
   ],
   "id": "1e583f990496a687",
   "outputs": [
    {
     "ename": "ValueError",
     "evalue": "Unsupported template format: \nAnswer this question using the provided context only.\n{question}\n\nContext:\n{context}\n",
     "output_type": "error",
     "traceback": [
      "\u001B[0;31m---------------------------------------------------------------------------\u001B[0m",
      "\u001B[0;31mValueError\u001B[0m                                Traceback (most recent call last)",
      "Cell \u001B[0;32mIn[21], line 9\u001B[0m\n\u001B[1;32m      1\u001B[0m message \u001B[38;5;241m=\u001B[39m \u001B[38;5;124m\"\"\"\u001B[39m\n\u001B[1;32m      2\u001B[0m \u001B[38;5;124mAnswer this question using the provided context only.\u001B[39m\n\u001B[1;32m      3\u001B[0m \u001B[38;5;132;01m{question}\u001B[39;00m\n\u001B[0;32m   (...)\u001B[0m\n\u001B[1;32m      6\u001B[0m \u001B[38;5;132;01m{context}\u001B[39;00m\n\u001B[1;32m      7\u001B[0m \u001B[38;5;124m\"\"\"\u001B[39m\n\u001B[0;32m----> 9\u001B[0m prompt \u001B[38;5;241m=\u001B[39m ChatPromptTemplate\u001B[38;5;241m.\u001B[39mfrom_messages(\u001B[38;5;124m\"\u001B[39m\u001B[38;5;124mhuman\u001B[39m\u001B[38;5;124m\"\u001B[39m, message)\n\u001B[1;32m     11\u001B[0m rag_chain\u001B[38;5;241m=\u001B[39m{\u001B[38;5;124m\"\u001B[39m\u001B[38;5;124mcontext\u001B[39m\u001B[38;5;124m\"\u001B[39m:ret, \u001B[38;5;124m\"\u001B[39m\u001B[38;5;124mquestion\u001B[39m\u001B[38;5;124m\"\u001B[39m:RunnablePassthrough()}\u001B[38;5;241m|\u001B[39mprompt\u001B[38;5;241m|\u001B[39mllm\n\u001B[1;32m     13\u001B[0m response \u001B[38;5;241m=\u001B[39m rag_chain\u001B[38;5;241m.\u001B[39minvoke(\u001B[38;5;124m\"\u001B[39m\u001B[38;5;124mTell me about dogs.\u001B[39m\u001B[38;5;124m\"\u001B[39m)\n",
      "File \u001B[0;32m~/anaconda3/envs/LangchainEnv/lib/python3.12/site-packages/langchain_core/prompts/chat.py:1208\u001B[0m, in \u001B[0;36mChatPromptTemplate.from_messages\u001B[0;34m(cls, messages, template_format)\u001B[0m\n\u001B[1;32m   1167\u001B[0m \u001B[38;5;129m@classmethod\u001B[39m\n\u001B[1;32m   1168\u001B[0m \u001B[38;5;28;01mdef\u001B[39;00m \u001B[38;5;21mfrom_messages\u001B[39m(\n\u001B[1;32m   1169\u001B[0m     \u001B[38;5;28mcls\u001B[39m,\n\u001B[1;32m   1170\u001B[0m     messages: Sequence[MessageLikeRepresentation],\n\u001B[1;32m   1171\u001B[0m     template_format: PromptTemplateFormat \u001B[38;5;241m=\u001B[39m \u001B[38;5;124m\"\u001B[39m\u001B[38;5;124mf-string\u001B[39m\u001B[38;5;124m\"\u001B[39m,\n\u001B[1;32m   1172\u001B[0m ) \u001B[38;5;241m-\u001B[39m\u001B[38;5;241m>\u001B[39m ChatPromptTemplate:\n\u001B[1;32m   1173\u001B[0m \u001B[38;5;250m    \u001B[39m\u001B[38;5;124;03m\"\"\"Create a chat prompt template from a variety of message formats.\u001B[39;00m\n\u001B[1;32m   1174\u001B[0m \n\u001B[1;32m   1175\u001B[0m \u001B[38;5;124;03m    Examples:\u001B[39;00m\n\u001B[0;32m   (...)\u001B[0m\n\u001B[1;32m   1206\u001B[0m \u001B[38;5;124;03m        a chat prompt template.\u001B[39;00m\n\u001B[1;32m   1207\u001B[0m \u001B[38;5;124;03m    \"\"\"\u001B[39;00m\n\u001B[0;32m-> 1208\u001B[0m     \u001B[38;5;28;01mreturn\u001B[39;00m \u001B[38;5;28mcls\u001B[39m(messages, template_format\u001B[38;5;241m=\u001B[39mtemplate_format)\n",
      "File \u001B[0;32m~/anaconda3/envs/LangchainEnv/lib/python3.12/site-packages/langchain_core/prompts/chat.py:1005\u001B[0m, in \u001B[0;36mChatPromptTemplate.__init__\u001B[0;34m(self, messages, template_format, **kwargs)\u001B[0m\n\u001B[1;32m    950\u001B[0m \u001B[38;5;28;01mdef\u001B[39;00m \u001B[38;5;21m__init__\u001B[39m(\n\u001B[1;32m    951\u001B[0m     \u001B[38;5;28mself\u001B[39m,\n\u001B[1;32m    952\u001B[0m     messages: Sequence[MessageLikeRepresentation],\n\u001B[0;32m   (...)\u001B[0m\n\u001B[1;32m    955\u001B[0m     \u001B[38;5;241m*\u001B[39m\u001B[38;5;241m*\u001B[39mkwargs: Any,\n\u001B[1;32m    956\u001B[0m ) \u001B[38;5;241m-\u001B[39m\u001B[38;5;241m>\u001B[39m \u001B[38;5;28;01mNone\u001B[39;00m:\n\u001B[1;32m    957\u001B[0m \u001B[38;5;250m    \u001B[39m\u001B[38;5;124;03m\"\"\"Create a chat prompt template from a variety of message formats.\u001B[39;00m\n\u001B[1;32m    958\u001B[0m \n\u001B[1;32m    959\u001B[0m \u001B[38;5;124;03m    Args:\u001B[39;00m\n\u001B[0;32m   (...)\u001B[0m\n\u001B[1;32m   1002\u001B[0m \n\u001B[1;32m   1003\u001B[0m \u001B[38;5;124;03m    \"\"\"\u001B[39;00m\n\u001B[1;32m   1004\u001B[0m     _messages \u001B[38;5;241m=\u001B[39m [\n\u001B[0;32m-> 1005\u001B[0m         _convert_to_message(message, template_format) \u001B[38;5;28;01mfor\u001B[39;00m message \u001B[38;5;129;01min\u001B[39;00m messages\n\u001B[1;32m   1006\u001B[0m     ]\n\u001B[1;32m   1008\u001B[0m     \u001B[38;5;66;03m# Automatically infer input variables from messages\u001B[39;00m\n\u001B[1;32m   1009\u001B[0m     input_vars: \u001B[38;5;28mset\u001B[39m[\u001B[38;5;28mstr\u001B[39m] \u001B[38;5;241m=\u001B[39m \u001B[38;5;28mset\u001B[39m()\n",
      "File \u001B[0;32m~/anaconda3/envs/LangchainEnv/lib/python3.12/site-packages/langchain_core/prompts/chat.py:1467\u001B[0m, in \u001B[0;36m_convert_to_message\u001B[0;34m(message, template_format)\u001B[0m\n\u001B[1;32m   1465\u001B[0m     _message \u001B[38;5;241m=\u001B[39m message\n\u001B[1;32m   1466\u001B[0m \u001B[38;5;28;01melif\u001B[39;00m \u001B[38;5;28misinstance\u001B[39m(message, \u001B[38;5;28mstr\u001B[39m):\n\u001B[0;32m-> 1467\u001B[0m     _message \u001B[38;5;241m=\u001B[39m _create_template_from_message_type(\n\u001B[1;32m   1468\u001B[0m         \u001B[38;5;124m\"\u001B[39m\u001B[38;5;124mhuman\u001B[39m\u001B[38;5;124m\"\u001B[39m, message, template_format\u001B[38;5;241m=\u001B[39mtemplate_format\n\u001B[1;32m   1469\u001B[0m     )\n\u001B[1;32m   1470\u001B[0m \u001B[38;5;28;01melif\u001B[39;00m \u001B[38;5;28misinstance\u001B[39m(message, \u001B[38;5;28mtuple\u001B[39m):\n\u001B[1;32m   1471\u001B[0m     \u001B[38;5;28;01mif\u001B[39;00m \u001B[38;5;28mlen\u001B[39m(message) \u001B[38;5;241m!=\u001B[39m \u001B[38;5;241m2\u001B[39m:\n",
      "File \u001B[0;32m~/anaconda3/envs/LangchainEnv/lib/python3.12/site-packages/langchain_core/prompts/chat.py:1381\u001B[0m, in \u001B[0;36m_create_template_from_message_type\u001B[0;34m(message_type, template, template_format)\u001B[0m\n\u001B[1;32m   1367\u001B[0m \u001B[38;5;250m\u001B[39m\u001B[38;5;124;03m\"\"\"Create a message prompt template from a message type and template string.\u001B[39;00m\n\u001B[1;32m   1368\u001B[0m \n\u001B[1;32m   1369\u001B[0m \u001B[38;5;124;03mArgs:\u001B[39;00m\n\u001B[0;32m   (...)\u001B[0m\n\u001B[1;32m   1378\u001B[0m \u001B[38;5;124;03m    ValueError: If unexpected message type.\u001B[39;00m\n\u001B[1;32m   1379\u001B[0m \u001B[38;5;124;03m\"\"\"\u001B[39;00m\n\u001B[1;32m   1380\u001B[0m \u001B[38;5;28;01mif\u001B[39;00m message_type \u001B[38;5;129;01min\u001B[39;00m (\u001B[38;5;124m\"\u001B[39m\u001B[38;5;124mhuman\u001B[39m\u001B[38;5;124m\"\u001B[39m, \u001B[38;5;124m\"\u001B[39m\u001B[38;5;124muser\u001B[39m\u001B[38;5;124m\"\u001B[39m):\n\u001B[0;32m-> 1381\u001B[0m     message: BaseMessagePromptTemplate \u001B[38;5;241m=\u001B[39m HumanMessagePromptTemplate\u001B[38;5;241m.\u001B[39mfrom_template(\n\u001B[1;32m   1382\u001B[0m         template, template_format\u001B[38;5;241m=\u001B[39mtemplate_format\n\u001B[1;32m   1383\u001B[0m     )\n\u001B[1;32m   1384\u001B[0m \u001B[38;5;28;01melif\u001B[39;00m message_type \u001B[38;5;129;01min\u001B[39;00m (\u001B[38;5;124m\"\u001B[39m\u001B[38;5;124mai\u001B[39m\u001B[38;5;124m\"\u001B[39m, \u001B[38;5;124m\"\u001B[39m\u001B[38;5;124massistant\u001B[39m\u001B[38;5;124m\"\u001B[39m):\n\u001B[1;32m   1385\u001B[0m     message \u001B[38;5;241m=\u001B[39m AIMessagePromptTemplate\u001B[38;5;241m.\u001B[39mfrom_template(\n\u001B[1;32m   1386\u001B[0m         cast(\u001B[38;5;28mstr\u001B[39m, template), template_format\u001B[38;5;241m=\u001B[39mtemplate_format\n\u001B[1;32m   1387\u001B[0m     )\n",
      "File \u001B[0;32m~/anaconda3/envs/LangchainEnv/lib/python3.12/site-packages/langchain_core/prompts/chat.py:514\u001B[0m, in \u001B[0;36m_StringImageMessagePromptTemplate.from_template\u001B[0;34m(cls, template, template_format, partial_variables, **kwargs)\u001B[0m\n\u001B[1;32m    497\u001B[0m \u001B[38;5;250m\u001B[39m\u001B[38;5;124;03m\"\"\"Create a class from a string template.\u001B[39;00m\n\u001B[1;32m    498\u001B[0m \n\u001B[1;32m    499\u001B[0m \u001B[38;5;124;03mArgs:\u001B[39;00m\n\u001B[0;32m   (...)\u001B[0m\n\u001B[1;32m    511\u001B[0m \u001B[38;5;124;03m    ValueError: If the template is not a string or list of strings.\u001B[39;00m\n\u001B[1;32m    512\u001B[0m \u001B[38;5;124;03m\"\"\"\u001B[39;00m\n\u001B[1;32m    513\u001B[0m \u001B[38;5;28;01mif\u001B[39;00m \u001B[38;5;28misinstance\u001B[39m(template, \u001B[38;5;28mstr\u001B[39m):\n\u001B[0;32m--> 514\u001B[0m     prompt: Union[StringPromptTemplate, \u001B[38;5;28mlist\u001B[39m] \u001B[38;5;241m=\u001B[39m PromptTemplate\u001B[38;5;241m.\u001B[39mfrom_template(\n\u001B[1;32m    515\u001B[0m         template,\n\u001B[1;32m    516\u001B[0m         template_format\u001B[38;5;241m=\u001B[39mtemplate_format,\n\u001B[1;32m    517\u001B[0m         partial_variables\u001B[38;5;241m=\u001B[39mpartial_variables,\n\u001B[1;32m    518\u001B[0m     )\n\u001B[1;32m    519\u001B[0m     \u001B[38;5;28;01mreturn\u001B[39;00m \u001B[38;5;28mcls\u001B[39m(prompt\u001B[38;5;241m=\u001B[39mprompt, \u001B[38;5;241m*\u001B[39m\u001B[38;5;241m*\u001B[39mkwargs)\n\u001B[1;32m    520\u001B[0m \u001B[38;5;28;01melif\u001B[39;00m \u001B[38;5;28misinstance\u001B[39m(template, \u001B[38;5;28mlist\u001B[39m):\n",
      "File \u001B[0;32m~/anaconda3/envs/LangchainEnv/lib/python3.12/site-packages/langchain_core/prompts/prompt.py:288\u001B[0m, in \u001B[0;36mPromptTemplate.from_template\u001B[0;34m(cls, template, template_format, partial_variables, **kwargs)\u001B[0m\n\u001B[1;32m    248\u001B[0m \u001B[38;5;129m@classmethod\u001B[39m\n\u001B[1;32m    249\u001B[0m \u001B[38;5;28;01mdef\u001B[39;00m \u001B[38;5;21mfrom_template\u001B[39m(\n\u001B[1;32m    250\u001B[0m     \u001B[38;5;28mcls\u001B[39m,\n\u001B[0;32m   (...)\u001B[0m\n\u001B[1;32m    255\u001B[0m     \u001B[38;5;241m*\u001B[39m\u001B[38;5;241m*\u001B[39mkwargs: Any,\n\u001B[1;32m    256\u001B[0m ) \u001B[38;5;241m-\u001B[39m\u001B[38;5;241m>\u001B[39m PromptTemplate:\n\u001B[1;32m    257\u001B[0m \u001B[38;5;250m    \u001B[39m\u001B[38;5;124;03m\"\"\"Load a prompt template from a template.\u001B[39;00m\n\u001B[1;32m    258\u001B[0m \n\u001B[1;32m    259\u001B[0m \u001B[38;5;124;03m    *Security warning*:\u001B[39;00m\n\u001B[0;32m   (...)\u001B[0m\n\u001B[1;32m    285\u001B[0m \u001B[38;5;124;03m        The prompt template loaded from the template.\u001B[39;00m\n\u001B[1;32m    286\u001B[0m \u001B[38;5;124;03m    \"\"\"\u001B[39;00m\n\u001B[0;32m--> 288\u001B[0m     input_variables \u001B[38;5;241m=\u001B[39m get_template_variables(template, template_format)\n\u001B[1;32m    289\u001B[0m     _partial_variables \u001B[38;5;241m=\u001B[39m partial_variables \u001B[38;5;129;01mor\u001B[39;00m {}\n\u001B[1;32m    291\u001B[0m     \u001B[38;5;28;01mif\u001B[39;00m _partial_variables:\n",
      "File \u001B[0;32m~/anaconda3/envs/LangchainEnv/lib/python3.12/site-packages/langchain_core/prompts/string.py:264\u001B[0m, in \u001B[0;36mget_template_variables\u001B[0;34m(template, template_format)\u001B[0m\n\u001B[1;32m    262\u001B[0m \u001B[38;5;28;01melse\u001B[39;00m:\n\u001B[1;32m    263\u001B[0m     msg \u001B[38;5;241m=\u001B[39m \u001B[38;5;124mf\u001B[39m\u001B[38;5;124m\"\u001B[39m\u001B[38;5;124mUnsupported template format: \u001B[39m\u001B[38;5;132;01m{\u001B[39;00mtemplate_format\u001B[38;5;132;01m}\u001B[39;00m\u001B[38;5;124m\"\u001B[39m\n\u001B[0;32m--> 264\u001B[0m     \u001B[38;5;28;01mraise\u001B[39;00m \u001B[38;5;167;01mValueError\u001B[39;00m(msg)\n\u001B[1;32m    266\u001B[0m \u001B[38;5;28;01mreturn\u001B[39;00m \u001B[38;5;28msorted\u001B[39m(input_variables)\n",
      "\u001B[0;31mValueError\u001B[0m: Unsupported template format: \nAnswer this question using the provided context only.\n{question}\n\nContext:\n{context}\n"
     ]
    }
   ],
   "execution_count": 21
  },
  {
   "metadata": {},
   "cell_type": "markdown",
   "source": "",
   "id": "a2fe40d9b4d6c04e"
  }
 ],
 "metadata": {
  "kernelspec": {
   "display_name": "Python 3",
   "language": "python",
   "name": "python3"
  },
  "language_info": {
   "codemirror_mode": {
    "name": "ipython",
    "version": 2
   },
   "file_extension": ".py",
   "mimetype": "text/x-python",
   "name": "python",
   "nbconvert_exporter": "python",
   "pygments_lexer": "ipython2",
   "version": "2.7.6"
  }
 },
 "nbformat": 4,
 "nbformat_minor": 5
}
