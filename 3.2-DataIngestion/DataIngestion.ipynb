{
 "cells": [
  {
   "metadata": {},
   "cell_type": "raw",
   "source": "len(docs)",
   "id": "c8f30505038f14bd"
  },
  {
   "metadata": {},
   "cell_type": "code",
   "source": [
    "from langchain_community.document_loaders import TextLoader, PyPDFLoader\n",
    "from langchain_community.document_loaders import PyPDFLoader\n",
    "from langchain_community.document_loaders import WebBaseLoader\n",
    "from langchain_community.document_loaders import ArxivLoader\n",
    "from langchain_community.document_loaders import WikipediaLoader\n",
    "import bs4"
   ],
   "id": "db0cf112ba5f9cd",
   "outputs": [],
   "execution_count": null
  },
  {
   "metadata": {},
   "cell_type": "markdown",
   "source": "## Text Loader",
   "id": "bf462b3576834581"
  },
  {
   "metadata": {},
   "cell_type": "code",
   "source": "loader = TextLoader('Data/speech.txt')",
   "id": "7a66363f0f413c9",
   "outputs": [],
   "execution_count": null
  },
  {
   "metadata": {},
   "cell_type": "code",
   "source": [
    "text_documents=loader.load()\n",
    "text_documents"
   ],
   "id": "9f1d5891697f5b41",
   "outputs": [],
   "execution_count": null
  },
  {
   "metadata": {},
   "cell_type": "markdown",
   "source": "## PDF Loader",
   "id": "f4d83aca63bba13c"
  },
  {
   "metadata": {},
   "cell_type": "code",
   "source": [
    "loader=PyPDFLoader('Data/attention.pdf')\n",
    "docs =loader.load()\n",
    "docs"
   ],
   "id": "dcd1a2dbcd737b1e",
   "outputs": [],
   "execution_count": null
  },
  {
   "metadata": {},
   "cell_type": "markdown",
   "source": "### Web based loader\n",
   "id": "dbc360d3f52f9ce5"
  },
  {
   "metadata": {},
   "cell_type": "code",
   "source": [
    "loader=WebBaseLoader(web_paths=(\"https://www.charlesmccullough.com\",),\n",
    "                     bs_kwargs=dict(parse_only=bs4.SoupStrainer(\n",
    "                         class_=(\"post-title\", \"post-content\", \"post-header\")\n",
    "                     ))\n",
    "                     )"
   ],
   "id": "59026dc52d240be6",
   "outputs": [],
   "execution_count": null
  },
  {
   "metadata": {},
   "cell_type": "code",
   "source": "loader.load()",
   "id": "b9f2388de4500136",
   "outputs": [],
   "execution_count": null
  },
  {
   "metadata": {},
   "cell_type": "code",
   "source": [
    "docs = WikipediaLoader(query=\"Generative AI\", load_max_docs=2).load()\n",
    "len(docs)\n",
    "print(docs)"
   ],
   "id": "76d972d34191de64",
   "outputs": [],
   "execution_count": null
  }
 ],
 "metadata": {
  "kernelspec": {
   "display_name": "Python 3",
   "language": "python",
   "name": "python3"
  },
  "language_info": {
   "codemirror_mode": {
    "name": "ipython",
    "version": 2
   },
   "file_extension": ".py",
   "mimetype": "text/x-python",
   "name": "python",
   "nbconvert_exporter": "python",
   "pygments_lexer": "ipython2",
   "version": "2.7.6"
  }
 },
 "nbformat": 4,
 "nbformat_minor": 5
}
