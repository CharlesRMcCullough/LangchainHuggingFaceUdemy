{
 "cells": [
  {
   "cell_type": "code",
   "execution_count": 1,
   "id": "initial_id",
   "metadata": {
    "ExecuteTime": {
     "end_time": "2024-11-15T23:03:57.578071Z",
     "start_time": "2024-11-15T23:03:57.575878Z"
    },
    "collapsed": true
   },
   "outputs": [],
   "source": [
    "import os\n",
    "from dotenv import load_dotenv\n",
    "from langchain_huggingface import HuggingFaceEmbeddings\n"
   ]
  },
  {
   "cell_type": "code",
   "execution_count": 2,
   "id": "aded1d604307a0fb",
   "metadata": {
    "ExecuteTime": {
     "end_time": "2024-11-15T23:05:08.397959Z",
     "start_time": "2024-11-15T23:05:08.389675Z"
    }
   },
   "outputs": [],
   "source": [
    "load_dotenv()\n",
    "os.environ[\"HF_TOKEN\"] = os.getenv(\"HF_TOKEN\")"
   ]
  },
  {
   "cell_type": "markdown",
   "id": "8181e62707d750d3",
   "metadata": {},
   "source": [
    "## Embedding Techniques Using HuggingFace\n"
   ]
  },
  {
   "cell_type": "markdown",
   "id": "33a08e8e79e3a312",
   "metadata": {},
   "source": [
    "#### Sentence Transformers on HuggingFace"
   ]
  },
  {
   "cell_type": "code",
   "execution_count": null,
   "id": "68e8d5035cd70e4d",
   "metadata": {},
   "outputs": [],
   "source": [
    "embeddings = HuggingFaceEmbeddings(model_name=\"all-MiniLM-L6-v2\")"
   ]
  },
  {
   "cell_type": "code",
   "execution_count": null,
   "id": "8ea511762d3689a",
   "metadata": {},
   "outputs": [],
   "source": [
    "text=\"this is a test document\"\n",
    "query_result = embeddings.embed_query(text)\n",
    "query_result\n"
   ]
  },
  {
   "cell_type": "code",
   "execution_count": null,
   "id": "d131eda31df52828",
   "metadata": {},
   "outputs": [],
   "source": [
    "len(query_result)"
   ]
  },
  {
   "cell_type": "code",
   "execution_count": null,
   "id": "3fb6242b850bc759",
   "metadata": {},
   "outputs": [],
   "source": [
    "doc_result = embeddings.embed_documents([text, \"This is another document\"])\n",
    "doc_result"
   ]
  }
 ],
 "metadata": {
  "kernelspec": {
   "display_name": "LangchainEnv",
   "language": "python",
   "name": "python3"
  },
  "language_info": {
   "codemirror_mode": {
    "name": "ipython",
    "version": 3
   },
   "file_extension": ".py",
   "mimetype": "text/x-python",
   "name": "python",
   "nbconvert_exporter": "python",
   "pygments_lexer": "ipython3",
   "version": "3.12.7"
  }
 },
 "nbformat": 4,
 "nbformat_minor": 5
}
