{
 "cells": [
  {
   "cell_type": "code",
   "id": "initial_id",
   "metadata": {
    "collapsed": true
   },
   "source": "from langchain_ollama import OllamaEmbeddings",
   "outputs": [],
   "execution_count": null
  },
  {
   "metadata": {},
   "cell_type": "markdown",
   "source": "### Ollama Embedding",
   "id": "ae7703e2366a3710"
  },
  {
   "metadata": {},
   "cell_type": "code",
   "source": [
    "embeddings = (OllamaEmbeddings(model=\"llama3.2:latest\")\n",
    ")"
   ],
   "id": "966a0c7592f61e22",
   "outputs": [],
   "execution_count": null
  },
  {
   "metadata": {},
   "cell_type": "code",
   "source": [
    "r1=embeddings.embed_documents(\n",
    "    [\n",
    "        \"Alpha is the first letter of the Greek alphabet.\",\n",
    "        \"Betta is the second letter of the Greek alphabet.\"\n",
    "    ]\n",
    ")\n",
    "r1[0]"
   ],
   "id": "fb963629e9856c0a",
   "outputs": [],
   "execution_count": null
  },
  {
   "metadata": {
    "ExecuteTime": {
     "end_time": "2024-11-15T00:42:01.028576Z",
     "start_time": "2024-11-15T00:41:56.943722Z"
    }
   },
   "cell_type": "code",
   "source": "query_embeddings = embeddings.embed_query(\"Betta is the second letter of the Greek alphabet.\")",
   "id": "3318a0291a92049d",
   "outputs": [],
   "execution_count": 12
  }
 ],
 "metadata": {
  "kernelspec": {
   "display_name": "Python 3",
   "language": "python",
   "name": "python3"
  },
  "language_info": {
   "codemirror_mode": {
    "name": "ipython",
    "version": 2
   },
   "file_extension": ".py",
   "mimetype": "text/x-python",
   "name": "python",
   "nbconvert_exporter": "python",
   "pygments_lexer": "ipython2",
   "version": "2.7.6"
  }
 },
 "nbformat": 4,
 "nbformat_minor": 5
}
