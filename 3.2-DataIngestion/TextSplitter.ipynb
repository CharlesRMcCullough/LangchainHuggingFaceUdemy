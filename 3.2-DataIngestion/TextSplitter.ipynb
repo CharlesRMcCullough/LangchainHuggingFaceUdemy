{
 "cells": [
  {
   "metadata": {},
   "cell_type": "code",
   "source": [
    "from langchain_community.document_loaders import PyPDFLoader\n",
    "from langchain_text_splitters import RecursiveCharacterTextSplitter\n",
    "from langchain_community.document_loaders import TextLoader\n",
    "from langchain_text_splitters import HTMLHeaderTextSplitter\n",
    "from langchain_text_splitters import RecursiveJsonSplitter\n",
    "import json\n",
    "import requests"
   ],
   "id": "297d77021d23d07e",
   "outputs": [],
   "execution_count": null
  },
  {
   "metadata": {},
   "cell_type": "markdown",
   "source": "### Text Splitting Documents",
   "id": "dafb939ef727df6"
  },
  {
   "metadata": {},
   "cell_type": "code",
   "source": [
    "loader=PyPDFLoader('../Data/attention.pdf')\n",
    "docs =loader.load()"
   ],
   "id": "d661e249c43ecf2e",
   "outputs": [],
   "execution_count": null
  },
  {
   "metadata": {},
   "cell_type": "markdown",
   "source": "",
   "id": "3313c20f28abd9cb"
  },
  {
   "metadata": {},
   "cell_type": "code",
   "source": [
    "text_splitter = RecursiveCharacterTextSplitter(\n",
    "    chunk_size=500, chunk_overlap=50)\n",
    "final_doc=text_splitter.split_documents(docs)"
   ],
   "id": "b57e3670601ab87b",
   "outputs": [],
   "execution_count": null
  },
  {
   "metadata": {},
   "cell_type": "markdown",
   "source": "### Split text document",
   "id": "acf24924d9e295dc"
  },
  {
   "metadata": {},
   "cell_type": "code",
   "source": [
    "loader = TextLoader('../Data/speech.txt')\n",
    "docs = loader.load()\n",
    "text_splitter = RecursiveCharacterTextSplitter(chunk_size=100, chunk_overlap=20)\n",
    "split_doc = text_splitter.split_documents(docs)\n",
    "\n",
    "                    "
   ],
   "id": "5b353233b57f7c59",
   "outputs": [],
   "execution_count": null
  },
  {
   "metadata": {},
   "cell_type": "markdown",
   "source": "### HTML Text Splitting",
   "id": "97d2d33bada13ecf"
  },
  {
   "metadata": {},
   "cell_type": "code",
   "source": [
    "url = \"https://plato.stanford.edu/entries/goedel\"\n",
    "\n",
    "headers_to_split_on = [\"h1\", \"h2\", \"h3\", \"h4\", \"h5\", \"h6\"]\n",
    "\n",
    "html_splitter = HTMLHeaderTextSplitter(headers_to_split_on=headers_to_split_on)\n",
    "html_header_splits = html_splitter.split_text_from_url(url)\n",
    "\n",
    "html_header_splits\n"
   ],
   "id": "9e812db9c6921262",
   "outputs": [],
   "execution_count": null
  },
  {
   "metadata": {},
   "cell_type": "markdown",
   "source": "### Split JSON Data",
   "id": "f55bd3b97df8fa83"
  },
  {
   "metadata": {},
   "cell_type": "code",
   "source": [
    "json_data = requests.get(\"https://api.smith.langchain.com/openapi.json\").json()\n",
    "json_splitter=RecursiveJsonSplitter(max_chunk_size=300)\n",
    "json_chunks=json_splitter.split_json(json_data)\n"
   ],
   "id": "d1cddd495e9fb7cf",
   "outputs": [],
   "execution_count": null
  },
  {
   "metadata": {},
   "cell_type": "code",
   "source": [
    "for chunk in json_chunks[:3]:   \n",
    "    print(chunk)\n",
    "    "
   ],
   "id": "7137e3baa9eecf52",
   "outputs": [],
   "execution_count": null
  },
  {
   "metadata": {},
   "cell_type": "code",
   "source": "docs = json_splitter.create_documents(texts=[json_data])",
   "id": "21f8b267410c70bb",
   "outputs": [],
   "execution_count": null
  },
  {
   "metadata": {},
   "cell_type": "code",
   "source": [
    "for doc in docs[:3]:\n",
    "    print(doc)"
   ],
   "id": "f49f6cc8516f4b3a",
   "outputs": [],
   "execution_count": null
  },
  {
   "metadata": {},
   "cell_type": "code",
   "source": [
    "texts = json_splitter.split_text(json_data)\n",
    "print(texts[0])\n",
    "print(texts[1])"
   ],
   "id": "7c9fc39e4a1e88b2",
   "outputs": [],
   "execution_count": null
  }
 ],
 "metadata": {
  "kernelspec": {
   "display_name": "Python 3",
   "language": "python",
   "name": "python3"
  },
  "language_info": {
   "codemirror_mode": {
    "name": "ipython",
    "version": 2
   },
   "file_extension": ".py",
   "mimetype": "text/x-python",
   "name": "python",
   "nbconvert_exporter": "python",
   "pygments_lexer": "ipython2",
   "version": "2.7.6"
  }
 },
 "nbformat": 4,
 "nbformat_minor": 5
}
