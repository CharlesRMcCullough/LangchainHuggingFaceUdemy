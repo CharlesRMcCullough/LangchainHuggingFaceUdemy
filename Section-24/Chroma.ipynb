{
 "cells": [
  {
   "cell_type": "code",
   "execution_count": 1,
   "id": "8b08033196e46154",
   "metadata": {
    "ExecuteTime": {
     "end_time": "2024-11-16T23:54:51.959698Z",
     "start_time": "2024-11-16T23:54:51.477828Z"
    }
   },
   "outputs": [],
   "source": [
    "from langchain_chroma import Chroma\n",
    "from langchain_community.document_loaders import TextLoader\n",
    "from langchain_community.embeddings import OllamaEmbeddings\n",
    "from langchain_text_splitters import RecursiveCharacterTextSplitter"
   ]
  },
  {
   "cell_type": "markdown",
   "id": "167cd182",
   "metadata": {},
   "source": [
    "## Chroma"
   ]
  },
  {
   "cell_type": "code",
   "execution_count": 2,
   "id": "ebacdeef",
   "metadata": {
    "ExecuteTime": {
     "end_time": "2024-11-16T23:54:53.765739Z",
     "start_time": "2024-11-16T23:54:53.689191Z"
    }
   },
   "outputs": [],
   "source": [
    "loader = TextLoader(\"../Data/test.txt\")\n",
    "data = loader.load()"
   ]
  },
  {
   "cell_type": "markdown",
   "id": "271e317d",
   "metadata": {},
   "source": [
    "#### Split Document"
   ]
  },
  {
   "cell_type": "code",
   "execution_count": 3,
   "id": "6e0d6af3",
   "metadata": {},
   "outputs": [],
   "source": [
    "text_splitter = RecursiveCharacterTextSplitter(chunk_size=500, chunk_overlap=50)\n",
    "splits = text_splitter.split_documents(data)"
   ]
  },
  {
   "cell_type": "markdown",
   "id": "32083a7a",
   "metadata": {},
   "source": [
    "#### Setup Embeddings"
   ]
  },
  {
   "cell_type": "code",
   "execution_count": 4,
   "id": "23c645fb",
   "metadata": {},
   "outputs": [],
   "source": [
    "#embeddings = OllamaEmbeddings(model=\"nomic-embed-text:latest\")\n",
    "embeddings = OllamaEmbeddings(model=\"llama3.2:latest\")\n",
    "vectordb = Chroma.from_documents(documents=splits,embedding=embeddings, persist_directory=\"../Embeddings/test_text_chroma_db\")"
   ]
  },
  {
   "cell_type": "markdown",
   "id": "99f5ddb2",
   "metadata": {},
   "source": [
    "#### Query Vector Store"
   ]
  },
  {
   "cell_type": "code",
   "execution_count": 5,
   "id": "4874dc2e",
   "metadata": {},
   "outputs": [
    {
     "data": {
      "text/plain": [
       "'This is a test sentence.\\nAnother sentence to test the model.\\nSome more words: cat, dog, house, car.\\nA short paragraph:\\nThe sun was shining brightly in the clear blue sky. The birds were singing their sweet melodies. It was a\\nbeautiful day outside.\\n\\nA sentence with punctuation: Hello, world! How are you?\\nA quote: \"Be the change you wish to see in the world.\" - Mahatma Gandhi\\n\\nSome numbers: 1, 2, 3, 4, 5\\nA list of words:\\napple, banana, cherry, date, elderberry'"
      ]
     },
     "execution_count": 5,
     "metadata": {},
     "output_type": "execute_result"
    }
   ],
   "source": [
    "#query = \"What does the speaker believe is the main reason the United States should enter the war?\"\n",
    "#query = \"find all sentences with text containing the name of a person\"\n",
    "query = \"Find sentences with words similar to 'shining' and 'brightly'.\"\n",
    "docs = vectordb.similarity_search(query)\n",
    "docs[0].page_content"
   ]
  },
  {
   "cell_type": "code",
   "execution_count": 6,
   "id": "a74c9ace",
   "metadata": {},
   "outputs": [
    {
     "data": {
      "text/plain": [
       "[(Document(metadata={'source': '../Data/test.txt'}, page_content='This is a test sentence.\\nAnother sentence to test the model.\\nSome more words: cat, dog, house, car.\\nA short paragraph:\\nThe sun was shining brightly in the clear blue sky. The birds were singing their sweet melodies. It was a\\nbeautiful day outside.\\n\\nA sentence with punctuation: Hello, world! How are you?\\nA quote: \"Be the change you wish to see in the world.\" - Mahatma Gandhi\\n\\nSome numbers: 1, 2, 3, 4, 5\\nA list of words:\\napple, banana, cherry, date, elderberry'),\n",
       "  10105.213544844262),\n",
       " (Document(metadata={'source': '../Data/test.txt'}, page_content='This is a test sentence.\\nAnother sentence to test the model.\\nSome more words: cat, dog, house, car.\\nA short paragraph:\\nThe sun was shining brightly in the clear blue sky. The birds were singing their sweet melodies. It was a\\nbeautiful day outside.\\n\\nA sentence with punctuation: Hello, world! How are you?\\nA quote: \"Be the change you wish to see in the world.\" - Mahatma Gandhi\\n\\nSome numbers: 1, 2, 3, 4, 5\\nA list of words:\\napple, banana, cherry, date, elderberry'),\n",
       "  10105.213544844262),\n",
       " (Document(metadata={'source': '../Data/test.txt'}, page_content='Another test sentence.\\nEven more text to test the model'),\n",
       "  10353.026846604611),\n",
       " (Document(metadata={'source': '../Data/test.txt'}, page_content='Another test sentence.\\nEven more text to test the model'),\n",
       "  10353.026846604611)]"
      ]
     },
     "execution_count": 6,
     "metadata": {},
     "output_type": "execute_result"
    }
   ],
   "source": [
    "db2  = Chroma(persist_directory=\"../Embeddings/test_text_chroma_db\", embedding_function=embeddings)\n",
    "docs=db2.similarity_search_with_score(query)\n",
    "\n",
    "docs"
   ]
  },
  {
   "cell_type": "code",
   "execution_count": 8,
   "id": "ff07cd6f",
   "metadata": {},
   "outputs": [
    {
     "data": {
      "text/plain": [
       "'This is a test sentence.\\nAnother sentence to test the model.\\nSome more words: cat, dog, house, car.\\nA short paragraph:\\nThe sun was shining brightly in the clear blue sky. The birds were singing their sweet melodies. It was a\\nbeautiful day outside.\\n\\nA sentence with punctuation: Hello, world! How are you?\\nA quote: \"Be the change you wish to see in the world.\" - Mahatma Gandhi\\n\\nSome numbers: 1, 2, 3, 4, 5\\nA list of words:\\napple, banana, cherry, date, elderberry'"
      ]
     },
     "execution_count": 8,
     "metadata": {},
     "output_type": "execute_result"
    }
   ],
   "source": [
    "retriever = vectordb.as_retriever()\n",
    "retriever.invoke(query)[0].page_content"
   ]
  }
 ],
 "metadata": {
  "kernelspec": {
   "display_name": "LangchainEnv",
   "language": "python",
   "name": "python3"
  },
  "language_info": {
   "codemirror_mode": {
    "name": "ipython",
    "version": 3
   },
   "file_extension": ".py",
   "mimetype": "text/x-python",
   "name": "python",
   "nbconvert_exporter": "python",
   "pygments_lexer": "ipython3",
   "version": "3.12.7"
  }
 },
 "nbformat": 5,
 "nbformat_minor": 9
}
