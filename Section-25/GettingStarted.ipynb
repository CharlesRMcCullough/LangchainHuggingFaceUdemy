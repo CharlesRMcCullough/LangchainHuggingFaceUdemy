{
 "cells": [
  {
   "cell_type": "code",
   "execution_count": 1,
   "metadata": {},
   "outputs": [],
   "source": [
    "import os\n",
    "from dotenv import load_dotenv\n",
    "from langchain_ollama import ChatOllama\n",
    "from langchain_core.messages import AIMessage\n",
    "from langchain_core.prompts import ChatPromptTemplate\n",
    "from langchain_core.output_parsers import StrOutputParser\n"
   ]
  },
  {
   "cell_type": "code",
   "execution_count": null,
   "metadata": {},
   "outputs": [],
   "source": [
    "#load_dotenv()\n",
    "#os.environ[\"LANGCHAIN_API_KEY\"]=os.getenv(\"LANGCHAIN_API_KEY\")\n",
    "#os.environ[\"LANGCHAIN_PROJECT\"]=os.getenv(\"LANGCHAIN_PROJECT\")\n",
    "#os.environ[\"LANGCHAIN_TRACKING_V2\"]=\"true\""
   ]
  },
  {
   "cell_type": "code",
   "execution_count": 2,
   "metadata": {},
   "outputs": [],
   "source": [
    "llm = ChatOllama(\n",
    "    model=\"llama3.2:latest\",\n",
    "    temperture=0.7\n",
    ")"
   ]
  },
  {
   "cell_type": "code",
   "execution_count": 3,
   "metadata": {},
   "outputs": [],
   "source": [
    "prompt = ChatPromptTemplate.from_messages(\n",
    "    [\n",
    "    (\"system\", \"You are an expert AI Engineer. Provide me answers based on the question\"),\n",
    "    (\"human\",\"{input}\"),\n",
    "    ]\n",
    ")\n"
   ]
  },
  {
   "cell_type": "code",
   "execution_count": 4,
   "metadata": {},
   "outputs": [
    {
     "data": {
      "text/plain": [
       "AIMessage(content=\"Langsmash is a free, open-source tool for analyzing and manipulating malware used in various types of attacks, including ransomware and fileless attacks. It was created by Matthew Feiler, also known as Langsmash, a security researcher.\\n\\nLangsmash's primary purpose is to help reverse engineers understand the tactics, techniques, and procedures (TTPs) employed by attackers using specific malware families or tools. By analyzing these tools, researchers can identify vulnerabilities, develop mitigations, and improve incident response strategies.\\n\\nSome key features of Langsmash include:\\n\\n1. **Malware analysis**: Langsmash provides a comprehensive platform for reverse engineering and understanding malware behavior.\\n2. **Customization options**: Users can customize the tool to suit their specific needs, including modifying the malware's output or creating custom payloads.\\n3. **Integration with other tools**: Langsmash integrates well with other security tools and frameworks, making it easier to incorporate into existing workflows.\\n\\nLangsmash has gained significant attention in the cybersecurity community due to its potential to aid in understanding and countering complex attacks. However, please note that Langsmash is a tool designed for professionals familiar with malware analysis and reverse engineering; misuse of this tool can potentially lead to unintended consequences.\", additional_kwargs={}, response_metadata={'model': 'llama3.2:latest', 'created_at': '2024-11-24T19:18:41.35420046Z', 'done': True, 'done_reason': 'stop', 'total_duration': 4816318577, 'load_duration': 2460795580, 'prompt_eval_count': 47, 'prompt_eval_duration': 137000000, 'eval_count': 251, 'eval_duration': 1884000000, 'message': Message(role='assistant', content='', images=None, tool_calls=None)}, id='run-ab0fd169-e371-4a51-9f76-37b08c7c99a5-0', usage_metadata={'input_tokens': 47, 'output_tokens': 251, 'total_tokens': 298})"
      ]
     },
     "execution_count": 4,
     "metadata": {},
     "output_type": "execute_result"
    }
   ],
   "source": [
    "chain= prompt | llm\n",
    "\n",
    "chain.invoke({\"input\":\"Can you tell me about Langsmith?\"})"
   ]
  },
  {
   "cell_type": "code",
   "execution_count": 5,
   "metadata": {},
   "outputs": [
    {
     "data": {
      "text/plain": [
       "'Langsmith is a software tool that was used for generating and editing text, particularly in the context of technical writing, documentation, and other forms of content creation.\\n\\nIn the 1980s and 1990s, Langsmith was widely used by writers and editors in various industries, including academic publishing, technical communication, and journalism. It offered a range of features that made it an attractive option for those who needed to generate and format text quickly and efficiently.\\n\\nSome of the key features of Langsmith included:\\n\\n1. Text formatting: Langsmith allowed users to format text using a variety of options, such as bold, italic, and underlined text.\\n2. Word processing: Langsmith supported basic word processing tasks, including inserting and deleting text, cutting and pasting text, and saving files in various formats.\\n3. Formula editor: Langsmith included a formula editor that allowed users to create complex mathematical equations and formulas.\\n\\nDespite its popularity during the 1980s and 1990s, Langsmith is no longer widely used today. The software has largely been replaced by more modern word processing tools and content management systems.\\n\\nHowever, for those who use vintage computers or are interested in exploring older software, Langsmith remains an interesting example of a tool that helped shape the development of text-based communication and content creation.'"
      ]
     },
     "execution_count": 5,
     "metadata": {},
     "output_type": "execute_result"
    }
   ],
   "source": [
    "output_parser=StrOutputParser()\n",
    "chain=prompt | llm | output_parser\n",
    "\n",
    "chain.invoke({\"input\":\"Can you tell me about Langsmith?\"})"
   ]
  }
 ],
 "metadata": {
  "kernelspec": {
   "display_name": "LangchainEnv",
   "language": "python",
   "name": "python3"
  },
  "language_info": {
   "codemirror_mode": {
    "name": "ipython",
    "version": 3
   },
   "file_extension": ".py",
   "mimetype": "text/x-python",
   "name": "python",
   "nbconvert_exporter": "python",
   "pygments_lexer": "ipython3",
   "version": "3.12.7"
  }
 },
 "nbformat": 4,
 "nbformat_minor": 2
}
