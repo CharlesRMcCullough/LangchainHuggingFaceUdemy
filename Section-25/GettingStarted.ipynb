{
 "cells": [
  {
   "cell_type": "code",
   "execution_count": 9,
   "metadata": {},
   "outputs": [],
   "source": [
    "import os\n",
    "from dotenv import load_dotenv\n",
    "from langchain_ollama import ChatOllama\n",
    "from langchain_core.messages import AIMessage\n",
    "from langchain_core.prompts import ChatPromptTemplate\n",
    "from langchain_core.output_parsers import StrOutputParser\n"
   ]
  },
  {
   "cell_type": "code",
   "execution_count": null,
   "metadata": {},
   "outputs": [],
   "source": [
    "#load_dotenv()\n",
    "#os.environ[\"LANGCHAIN_API_KEY\"]=os.getenv(\"LANGCHAIN_API_KEY\")\n",
    "#os.environ[\"LANGCHAIN_PROJECT\"]=os.getenv(\"LANGCHAIN_PROJECT\")\n",
    "#os.environ[\"LANGCHAIN_TRACKING_V2\"]=\"true\""
   ]
  },
  {
   "cell_type": "code",
   "execution_count": 3,
   "metadata": {},
   "outputs": [],
   "source": [
    "llm = ChatOllama(\n",
    "    model=\"llama3.2:latest\",\n",
    "    temperture=0.7\n",
    ")"
   ]
  },
  {
   "cell_type": "code",
   "execution_count": 10,
   "metadata": {},
   "outputs": [],
   "source": [
    "prompt = ChatPromptTemplate.from_messages(\n",
    "    [\n",
    "    (\"system\", \"You are an expert AI Engineer. Provide me answers based on the question\"),\n",
    "    (\"human\",\"{input}\"),\n",
    "    ]\n",
    ")\n"
   ]
  },
  {
   "cell_type": "code",
   "execution_count": null,
   "metadata": {},
   "outputs": [],
   "source": [
    "chain= prompt | llm\n",
    "\n",
    "chain.invoke({\"input\":\"Can you tell me about Langsmith?\"})"
   ]
  },
  {
   "cell_type": "code",
   "execution_count": 11,
   "metadata": {},
   "outputs": [
    {
     "data": {
      "text/plain": [
       "\"Langsmith!\\n\\nLangsmith is a free, open-source tool that generates poetry. It uses natural language processing (NLP) and machine learning algorithms to create poems in various styles, including sonnets, haikus, and limericks.\\n\\nLangsmith was created by Matt Weiner, an American linguist and poet, who developed the algorithm to analyze and generate poetry based on patterns found in existing works. The tool uses a combination of linguistic techniques, such as part-of-speech tagging, dependency parsing, and semantic role labeling, to identify poetic structures and conventions.\\n\\nWhen you input words or phrases into Langsmith, it generates a poem that mimics the style and structure of classical poetry forms. The output poems can be surprisingly good, with many users praising their creativity and coherence.\\n\\nSome notable features of Langsmith include:\\n\\n1. **Poem generation**: Langsmith can produce original poems in various styles, including sonnets, haikus, limericks, and free verse.\\n2. **Style selection**: You can choose from different poetic styles, such as classical, contemporary, or experimental.\\n3. **Word input**: You can enter words or phrases to inspire the poem generation process.\\n4. **Output options**: Langsmith allows you to customize the output format, including line breaks, indentation, and capitalization.\\n\\nLangsmith has gained popularity among writers, poets, and language enthusiasts, who appreciate its ability to generate creative and coherent poetry. While it's not a replacement for human creativity or original thought, Langsmith can be a useful tool for generating ideas, exploring poetic styles, or even creating artistic collaborations.\\n\\nWould you like to try using Langsmith yourself? I can guide you through the process if you'd like!\""
      ]
     },
     "execution_count": 11,
     "metadata": {},
     "output_type": "execute_result"
    }
   ],
   "source": [
    "output_parser=StrOutputParser()\n",
    "chain=prompt | llm | output_parser\n",
    "\n",
    "chain.invoke({\"input\":\"Can you tell me about Langsmith?\"})"
   ]
  }
 ],
 "metadata": {
  "kernelspec": {
   "display_name": "LangchainEnv",
   "language": "python",
   "name": "python3"
  },
  "language_info": {
   "codemirror_mode": {
    "name": "ipython",
    "version": 3
   },
   "file_extension": ".py",
   "mimetype": "text/x-python",
   "name": "python",
   "nbconvert_exporter": "python",
   "pygments_lexer": "ipython3",
   "version": "3.12.7"
  }
 },
 "nbformat": 4,
 "nbformat_minor": 2
}
